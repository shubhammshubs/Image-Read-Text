{
 "cells": [
  {
   "cell_type": "markdown",
   "id": "ede04835",
   "metadata": {},
   "source": [
    "# Task 2"
   ]
  },
  {
   "cell_type": "markdown",
   "id": "1d0b3b70",
   "metadata": {},
   "source": [
    "### Task2: \n",
    "Read the text as shown in the given image, make sure the code is generalize and work on all the given images \n",
    "in task2 Folder ."
   ]
  },
  {
   "cell_type": "code",
   "execution_count": 1,
   "id": "f4e8fff8",
   "metadata": {},
   "outputs": [],
   "source": [
    "import cv2\n",
    "import pytesseract"
   ]
  },
  {
   "cell_type": "code",
   "execution_count": 2,
   "id": "cd384f21",
   "metadata": {},
   "outputs": [],
   "source": [
    "import os\n",
    "\n",
    "# Set the TESSDATA_PREFIX environment variable\n",
    "os.environ['TESSDATA_PREFIX'] = 'C:/Program Files/Tesseract-OCR/tessdata'"
   ]
  },
  {
   "cell_type": "code",
   "execution_count": 21,
   "id": "c0334e97",
   "metadata": {},
   "outputs": [
    {
     "name": "stdout",
     "output_type": "stream",
     "text": [
      "mee VOD 06-01-29 17:42 |\n",
      "=.=: . eS a\n",
      "—\n",
      "\n"
     ]
    }
   ],
   "source": [
    "# Path to Tesseract executable\n",
    "pytesseract.pytesseract.tesseract_cmd = r'C:\\Program Files\\Tesseract-OCR\\tesseract.exe'\n",
    "\n",
    "def read_text_from_image(image_path, x, y, width, height):\n",
    "    # Load the image using OpenCV\n",
    "    image = cv2.imread(image_path)\n",
    "\n",
    "    # Convert the image to grayscale\n",
    "    gray_image = cv2.cvtColor(image, cv2.COLOR_BGR2GRAY)\n",
    "\n",
    "    # Apply histogram equalization to enhance contrast\n",
    "    equalized_image = cv2.equalizeHist(gray_image)\n",
    "\n",
    "    # Blur the image to reduce noise\n",
    "    blurred_image = cv2.GaussianBlur(equalized_image, (5, 5), 0)\n",
    "\n",
    "    # Apply edge detection to the image\n",
    "#     edges = cv2.Canny(blurred_image, threshold1=20, threshold2=55,)\n",
    "    thresh = cv2.threshold(blurred_image, 200, 255, cv2.THRESH_BINARY)[1]\n",
    "    thresh = cv2.bitwise_not(thresh)\n",
    "\n",
    "    # Perform closing operation to close small holes inside words\n",
    "    kernel = cv2.getStructuringElement(cv2.MORPH_RECT, (5, 5))\n",
    "    closed_image = cv2.morphologyEx(thresh, cv2.MORPH_CLOSE, kernel)\n",
    "    \n",
    "     \n",
    "\n",
    "    # Select the region of interest (ROI) to draw the rectangle and extract text\n",
    "    roi = closed_image[y:y+height, x:x+width]\n",
    "    custom_config = r'--oem 3 --psm 6'\n",
    "    text = pytesseract.image_to_string(roi,lang= 'eng',config=custom_config)\n",
    "\n",
    "       # Draw a green rectangle around the ROI in the original image\n",
    "    cv2.rectangle(image, (x, y), (x + width, y + height), (0, 255, 0), 2)\n",
    "\n",
    "\n",
    "    # Print the extracted text\n",
    "    print(text)\n",
    "\n",
    "# Provide the path to the image file\n",
    "image_path = r'C:\\Users\\shubham\\Downloads\\Resolute AI\\Data\\Data\\Task2/1.png'\n",
    "\n",
    "# Specify the coordinates and dimensions of the region of interest (ROI)\n",
    "x = 200  # x-coordinate of the top-left corner of the ROI\n",
    "y = 500  # y-coordinate of the top-left corner of the ROI\n",
    "width = 750  # width of the ROI\n",
    "height = 210  # height of the ROI\n",
    "\n",
    "# Call the function to read text from the specified area of the image\n",
    "read_text_from_image(image_path, x, y, width, height)\n"
   ]
  },
  {
   "cell_type": "code",
   "execution_count": null,
   "id": "1574a2aa",
   "metadata": {},
   "outputs": [],
   "source": []
  },
  {
   "cell_type": "code",
   "execution_count": null,
   "id": "16bf83aa",
   "metadata": {},
   "outputs": [],
   "source": []
  },
  {
   "cell_type": "code",
   "execution_count": null,
   "id": "673fc663",
   "metadata": {},
   "outputs": [],
   "source": []
  },
  {
   "cell_type": "code",
   "execution_count": null,
   "id": "4eb7a803",
   "metadata": {},
   "outputs": [],
   "source": []
  },
  {
   "cell_type": "code",
   "execution_count": null,
   "id": "0abf9b33",
   "metadata": {},
   "outputs": [],
   "source": []
  },
  {
   "cell_type": "code",
   "execution_count": null,
   "id": "9f3bfd26",
   "metadata": {},
   "outputs": [],
   "source": []
  },
  {
   "cell_type": "code",
   "execution_count": null,
   "id": "c8b37eff",
   "metadata": {},
   "outputs": [],
   "source": []
  },
  {
   "cell_type": "code",
   "execution_count": 4,
   "id": "990d2c5e",
   "metadata": {},
   "outputs": [],
   "source": [
    "\n",
    "    # Display the image with the green rectangle\n",
    "#     cv2.imshow(\"Image\", image)\n",
    "    cv2.waitKey(0)\n",
    "    cv2.destroyAllWindows()"
   ]
  },
  {
   "cell_type": "code",
   "execution_count": null,
   "id": "2e271132",
   "metadata": {},
   "outputs": [],
   "source": []
  },
  {
   "cell_type": "code",
   "execution_count": null,
   "id": "e57bb66f",
   "metadata": {},
   "outputs": [],
   "source": []
  }
 ],
 "metadata": {
  "kernelspec": {
   "display_name": "Python 3 (ipykernel)",
   "language": "python",
   "name": "python3"
  },
  "language_info": {
   "codemirror_mode": {
    "name": "ipython",
    "version": 3
   },
   "file_extension": ".py",
   "mimetype": "text/x-python",
   "name": "python",
   "nbconvert_exporter": "python",
   "pygments_lexer": "ipython3",
   "version": "3.10.9"
  }
 },
 "nbformat": 4,
 "nbformat_minor": 5
}
