{
 "cells": [
  {
   "cell_type": "markdown",
   "id": "e224ab87",
   "metadata": {},
   "source": [
    "# Task 1 "
   ]
  },
  {
   "cell_type": "markdown",
   "id": "ab1f4f8e",
   "metadata": {},
   "source": [
    "### Task1: \n",
    "Process any given image/pdf and read the text. Using open- CV approach and Py-tesseract only."
   ]
  },
  {
   "cell_type": "code",
   "execution_count": 15,
   "id": "10709a8e",
   "metadata": {},
   "outputs": [
    {
     "name": "stdout",
     "output_type": "stream",
     "text": [
      "Requirement already satisfied: opencv-python in c:\\users\\shubham\\ana\\lib\\site-packages (4.7.0.72)\n",
      "Requirement already satisfied: numpy>=1.17.0 in c:\\users\\shubham\\ana\\lib\\site-packages (from opencv-python) (1.23.5)\n",
      "Note: you may need to restart the kernel to use updated packages.\n"
     ]
    }
   ],
   "source": [
    "pip install opencv-python"
   ]
  },
  {
   "cell_type": "code",
   "execution_count": 30,
   "id": "684908db",
   "metadata": {
    "collapsed": true
   },
   "outputs": [
    {
     "name": "stdout",
     "output_type": "stream",
     "text": [
      "Collecting tesseract-ocr\n",
      "  Downloading tesseract-ocr-0.0.1.tar.gz (33 kB)\n",
      "  Preparing metadata (setup.py): started\n",
      "  Preparing metadata (setup.py): finished with status 'done'\n",
      "Collecting cython\n",
      "  Downloading Cython-0.29.34-py2.py3-none-any.whl (988 kB)\n",
      "     ------------------------------------- 988.1/988.1 kB 10.5 MB/s eta 0:00:00\n",
      "Building wheels for collected packages: tesseract-ocr\n",
      "  Building wheel for tesseract-ocr (setup.py): started\n",
      "  Building wheel for tesseract-ocr (setup.py): finished with status 'error'\n",
      "  Running setup.py clean for tesseract-ocr\n",
      "Failed to build tesseract-ocr\n",
      "Installing collected packages: cython, tesseract-ocr\n",
      "  Running setup.py install for tesseract-ocr: started\n",
      "  Running setup.py install for tesseract-ocr: finished with status 'error'\n",
      "Note: you may need to restart the kernel to use updated packages.\n"
     ]
    },
    {
     "name": "stderr",
     "output_type": "stream",
     "text": [
      "  error: subprocess-exited-with-error\n",
      "  \n",
      "  python setup.py bdist_wheel did not run successfully.\n",
      "  exit code: 1\n",
      "  \n",
      "  [10 lines of output]\n",
      "  C:\\Users\\shubham\\ana\\lib\\site-packages\\setuptools\\dist.py:770: UserWarning: Usage of dash-separated 'description-file' will not be supported in future versions. Please use the underscore name 'description_file' instead\n",
      "    warnings.warn(\n",
      "  running bdist_wheel\n",
      "  running build\n",
      "  running build_py\n",
      "  file tesseract_ocr.py (for module tesseract_ocr) not found\n",
      "  file tesseract_ocr.py (for module tesseract_ocr) not found\n",
      "  running build_ext\n",
      "  building 'tesseract_ocr' extension\n",
      "  error: Microsoft Visual C++ 14.0 or greater is required. Get it with \"Microsoft C++ Build Tools\": https://visualstudio.microsoft.com/visual-cpp-build-tools/\n",
      "  [end of output]\n",
      "  \n",
      "  note: This error originates from a subprocess, and is likely not a problem with pip.\n",
      "  ERROR: Failed building wheel for tesseract-ocr\n",
      "  error: subprocess-exited-with-error\n",
      "  \n",
      "  Running setup.py install for tesseract-ocr did not run successfully.\n",
      "  exit code: 1\n",
      "  \n",
      "  [16 lines of output]\n",
      "  Compiling tesseract_ocr.pyx because it depends on C:\\Users\\shubham\\ana\\lib\\site-packages\\Cython\\Includes\\libc\\string.pxd.\n",
      "  [1/1] Cythonizing tesseract_ocr.pyx\n",
      "  C:\\Users\\shubham\\ana\\lib\\site-packages\\Cython\\Compiler\\Main.py:369: FutureWarning: Cython directive 'language_level' not set, using 2 for now (Py2). This will change in a later release! File: C:\\Users\\shubham\\AppData\\Local\\Temp\\pip-install-4k6um617\\tesseract-ocr_54fd3d73227a4a2ca0f574b315e6dfa4\\tesseract_ocr.pyx\n",
      "    tree = Parsing.p_module(s, pxd, full_module_name)\n",
      "  C:\\Users\\shubham\\ana\\lib\\site-packages\\setuptools\\dist.py:770: UserWarning: Usage of dash-separated 'description-file' will not be supported in future versions. Please use the underscore name 'description_file' instead\n",
      "    warnings.warn(\n",
      "  running install\n",
      "  C:\\Users\\shubham\\ana\\lib\\site-packages\\setuptools\\command\\install.py:34: SetuptoolsDeprecationWarning: setup.py install is deprecated. Use build and pip and other standards-based tools.\n",
      "    warnings.warn(\n",
      "  running build\n",
      "  running build_py\n",
      "  file tesseract_ocr.py (for module tesseract_ocr) not found\n",
      "  file tesseract_ocr.py (for module tesseract_ocr) not found\n",
      "  running build_ext\n",
      "  building 'tesseract_ocr' extension\n",
      "  error: Microsoft Visual C++ 14.0 or greater is required. Get it with \"Microsoft C++ Build Tools\": https://visualstudio.microsoft.com/visual-cpp-build-tools/\n",
      "  [end of output]\n",
      "  \n",
      "  note: This error originates from a subprocess, and is likely not a problem with pip.\n",
      "error: legacy-install-failure\n",
      "\n",
      "Encountered error while trying to install package.\n",
      "\n",
      "tesseract-ocr\n",
      "\n",
      "note: This is an issue with the package mentioned above, not pip.\n",
      "hint: See above for output from the failure.\n"
     ]
    }
   ],
   "source": [
    "pip install tesseract-ocr"
   ]
  },
  {
   "cell_type": "code",
   "execution_count": null,
   "id": "0b4330ec",
   "metadata": {},
   "outputs": [],
   "source": []
  },
  {
   "cell_type": "code",
   "execution_count": 6,
   "id": "f9e45df5",
   "metadata": {
    "scrolled": true
   },
   "outputs": [
    {
     "name": "stdout",
     "output_type": "stream",
     "text": [
      "Collecting pytesseract\n",
      "  Downloading pytesseract-0.3.10-py3-none-any.whl (14 kB)\n",
      "Requirement already satisfied: Pillow>=8.0.0 in c:\\users\\shubham\\ana\\lib\\site-packages (from pytesseract) (9.4.0)\n",
      "Requirement already satisfied: packaging>=21.3 in c:\\users\\shubham\\ana\\lib\\site-packages (from pytesseract) (22.0)\n",
      "Installing collected packages: pytesseract\n",
      "Successfully installed pytesseract-0.3.10\n",
      "Note: you may need to restart the kernel to use updated packages.\n"
     ]
    }
   ],
   "source": [
    "pip install pytesseract"
   ]
  },
  {
   "cell_type": "markdown",
   "id": "2cdf02e9",
   "metadata": {},
   "source": [
    " # Import Library  "
   ]
  },
  {
   "cell_type": "code",
   "execution_count": 13,
   "id": "396bb4fe",
   "metadata": {},
   "outputs": [],
   "source": [
    "import pytesseract\n",
    "import cv2"
   ]
  },
  {
   "cell_type": "code",
   "execution_count": 14,
   "id": "532a3852",
   "metadata": {},
   "outputs": [],
   "source": [
    "import os\n",
    "\n",
    "# Set the TESSDATA_PREFIX environment variable\n",
    "os.environ['TESSDATA_PREFIX'] = 'C:/Program Files/Tesseract-OCR/tessdata'"
   ]
  },
  {
   "cell_type": "code",
   "execution_count": 16,
   "id": "c56b0418",
   "metadata": {},
   "outputs": [
    {
     "name": "stdout",
     "output_type": "stream",
     "text": [
      "Satisfied conveying an dependent contented he gentleman agreeable do be. Warrant\n",
      "private blushes removed an in equally totally if. Delivered dejection necessary\n",
      "objection do mr prevailed. Mr feeling do chiefly cordial in do. Water timed folly\n",
      "right aware if oh truth. Imprudence attachment him his for sympathize. Large above\n",
      "be to means. Dashwood do provided stronger is. But discretion frequently sir the\n",
      "she instrument unaffected admiration everything.\n",
      "\n",
      "Her extensive perceived may any sincerity extremity. Indeed add rather may pretty\n",
      "see. Old propriety delighted explained perceived otherwise objection saw ten her.\n",
      "Doubt merit sir the right these alone keeps. By sometimes intention smallness he\n",
      "northward. Consisted we otherwise arranging commanded discovery it explained.\n",
      "Does cold even song like two yet been. Literature interested announcing for\n",
      "terminated him inquietude day shy. Himself he fertile chicken perhaps waiting if\n",
      "highest no it. Continued promotion has consulted fat improving not way.\n",
      "\n",
      "Far quitting dwelling graceful the likewise received building. An fact so to that\n",
      "show am shed sold cold. Unaffected remarkably get yet introduced excellence\n",
      "terminated led. Result either design saw she esteem and. On ashamed no inhabit\n",
      "ferrars it ye besides resolve. Own judgment directly few trifling. Elderly as\n",
      "pursuit at regular do parlors. Rank what has into fond she.\n",
      "\n",
      "Of friendship on inhabiting diminution discovered as. Did friendly eat breeding\n",
      "building few nor. Object he barton no effect played valley afford. Period so to\n",
      "oppose we little seeing or branch. Announcing contrasted not imprudence add\n",
      "frequently you possession mrs. Period saw his houses square and misery. Hour had\n",
      "held lain give yet.\n",
      "\n"
     ]
    }
   ],
   "source": [
    "\n",
    "# Path to Tesseract executable\n",
    "pytesseract.pytesseract.tesseract_cmd = r'C:\\Program Files\\Tesseract-OCR\\tesseract.exe'\n",
    "\n",
    "def process_image(image_path):\n",
    "    # Read the image using OpenCV\n",
    "    image = cv2.imread(image_path)\n",
    "\n",
    "    # Convert the image to grayscale\n",
    "    gray = cv2.cvtColor(image, cv2.COLOR_BGR2GRAY)\n",
    "\n",
    "    # Apply image preprocessing\n",
    "    gray = cv2.GaussianBlur(gray, (5, 5), 0)\n",
    "\n",
    "    # Perform Optical Character Recognition (OCR) using PyTesseract\n",
    "    text = pytesseract.image_to_string(gray,lang ='eng')\n",
    "\n",
    "    return text\n",
    "\n",
    "# import path of image\n",
    "image_path = r'1.jpg'\n",
    "get_text = process_image(image_path)\n",
    "print(get_text)"
   ]
  },
  {
   "cell_type": "code",
   "execution_count": null,
   "id": "bfdde915",
   "metadata": {},
   "outputs": [],
   "source": []
  }
 ],
 "metadata": {
  "kernelspec": {
   "display_name": "Python 3 (ipykernel)",
   "language": "python",
   "name": "python3"
  },
  "language_info": {
   "codemirror_mode": {
    "name": "ipython",
    "version": 3
   },
   "file_extension": ".py",
   "mimetype": "text/x-python",
   "name": "python",
   "nbconvert_exporter": "python",
   "pygments_lexer": "ipython3",
   "version": "3.10.9"
  }
 },
 "nbformat": 4,
 "nbformat_minor": 5
}
